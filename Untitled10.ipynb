{
  "nbformat": 4,
  "nbformat_minor": 0,
  "metadata": {
    "colab": {
      "name": "Untitled10.ipynb",
      "private_outputs": true,
      "provenance": [],
      "authorship_tag": "ABX9TyPE+TBMwohgazxclzUQjc46",
      "include_colab_link": true
    },
    "kernelspec": {
      "name": "python3",
      "display_name": "Python 3"
    },
    "language_info": {
      "name": "python"
    }
  },
  "cells": [
    {
      "cell_type": "markdown",
      "metadata": {
        "id": "view-in-github",
        "colab_type": "text"
      },
      "source": [
        "<a href=\"https://colab.research.google.com/github/sakikal/python-/blob/main/Untitled10.ipynb\" target=\"_parent\"><img src=\"https://colab.research.google.com/assets/colab-badge.svg\" alt=\"Open In Colab\"/></a>"
      ]
    },
    {
      "cell_type": "code",
      "execution_count": null,
      "metadata": {
        "id": "Q3kSsDZ09e9V"
      },
      "outputs": [],
      "source": [
        "def add (n1,n2):\n",
        "  return n1+ n2\n",
        "\n",
        "\n",
        "\n",
        "n=10\n",
        "m=20\n",
        "result = add(n,m)\n",
        "print(result)\n"
      ]
    }
  ]
}