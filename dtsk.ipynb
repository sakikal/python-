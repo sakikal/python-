{
  "nbformat": 4,
  "nbformat_minor": 0,
  "metadata": {
    "colab": {
      "name": "dtsk.ipynb",
      "private_outputs": true,
      "provenance": [],
      "authorship_tag": "ABX9TyOo/9DUDFBicq9A/U2+api+",
      "include_colab_link": true
    },
    "kernelspec": {
      "name": "python3",
      "display_name": "Python 3"
    },
    "language_info": {
      "name": "python"
    }
  },
  "cells": [
    {
      "cell_type": "markdown",
      "metadata": {
        "id": "view-in-github",
        "colab_type": "text"
      },
      "source": [
        "<a href=\"https://colab.research.google.com/github/sakikal/python-/blob/main/dtsk.ipynb\" target=\"_parent\"><img src=\"https://colab.research.google.com/assets/colab-badge.svg\" alt=\"Open In Colab\"/></a>"
      ]
    },
    {
      "cell_type": "code",
      "execution_count": null,
      "metadata": {
        "id": "v4nL78EkPlEB"
      },
      "outputs": [],
      "source": [
        "num = int (input())\n",
        "num1 = int(input())\n",
        "if num>=num1:\n",
        "  print(\"maximum\",num)\n",
        "elif num<=num1:\n",
        "  print(\"minimum\",num1)\n",
        "else:\n",
        "  print(\"putkimara\")"
      ]
    }
  ]
}