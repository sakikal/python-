{
  "nbformat": 4,
  "nbformat_minor": 0,
  "metadata": {
    "colab": {
      "name": "Untitled7.ipynb",
      "private_outputs": true,
      "provenance": [],
      "authorship_tag": "ABX9TyM5kK2rpzq60jncbGvf+NPG",
      "include_colab_link": true
    },
    "kernelspec": {
      "name": "python3",
      "display_name": "Python 3"
    },
    "language_info": {
      "name": "python"
    }
  },
  "cells": [
    {
      "cell_type": "markdown",
      "metadata": {
        "id": "view-in-github",
        "colab_type": "text"
      },
      "source": [
        "<a href=\"https://colab.research.google.com/github/sakikal/python-/blob/main/Untitled7.ipynb\" target=\"_parent\"><img src=\"https://colab.research.google.com/assets/colab-badge.svg\" alt=\"Open In Colab\"/></a>"
      ]
    },
    {
      "cell_type": "code",
      "execution_count": null,
      "metadata": {
        "id": "_bomXX3Xori0"
      },
      "outputs": [],
      "source": [
        "for i in range(5):\n",
        "  print(i,\"k\")\n"
      ]
    },
    {
      "cell_type": "code",
      "source": [
        "result = 15\n",
        "for i in range(50):\n",
        "  result=result+1\n",
        "  print(result)\n"
      ],
      "metadata": {
        "id": "CtWmd_Vqs7pY"
      },
      "execution_count": null,
      "outputs": []
    }
  ]
}