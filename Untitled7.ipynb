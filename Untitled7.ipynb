{
  "nbformat": 4,
  "nbformat_minor": 0,
  "metadata": {
    "colab": {
      "name": "Untitled7.ipynb",
      "private_outputs": true,
      "provenance": [],
      "authorship_tag": "ABX9TyPvymWiB20qzdvBrzzRsSiq",
      "include_colab_link": true
    },
    "kernelspec": {
      "name": "python3",
      "display_name": "Python 3"
    },
    "language_info": {
      "name": "python"
    }
  },
  "cells": [
    {
      "cell_type": "markdown",
      "metadata": {
        "id": "view-in-github",
        "colab_type": "text"
      },
      "source": [
        "<a href=\"https://colab.research.google.com/github/sakikal/python-/blob/main/Untitled7.ipynb\" target=\"_parent\"><img src=\"https://colab.research.google.com/assets/colab-badge.svg\" alt=\"Open In Colab\"/></a>"
      ]
    },
    {
      "cell_type": "code",
      "execution_count": null,
      "metadata": {
        "id": "_bomXX3Xori0"
      },
      "outputs": [],
      "source": [
        "for i in range(5):\n",
        "  print(i,\"k\")\n"
      ]
    },
    {
      "cell_type": "code",
      "source": [
        ""
      ],
      "metadata": {
        "id": "jNL2S0owxjk0"
      },
      "execution_count": null,
      "outputs": []
    },
    {
      "cell_type": "code",
      "source": [
        "\n",
        "for i in range(50):\n",
        "  if i%2==0:\n",
        "   print(i,\"this is even number\")\n",
        "\n",
        "  elif i%2==1:\n",
        "    print(i,\"odd number\")\n",
        "  else:\n",
        "    print(\" number\")\n",
        "\n",
        "\n",
        "\n",
        "\n",
        "\n"
      ],
      "metadata": {
        "id": "CtWmd_Vqs7pY"
      },
      "execution_count": null,
      "outputs": []
    },
    {
      "cell_type": "code",
      "source": [
        "for i in range(100):\n",
        "\n",
        "  if i%10==0:\n",
        "    print(i,\"#\")\n",
        "    if i%5==0 :\n",
        "     print(i,\"*\")\n",
        "  else:\n",
        "    print(\"unvalid\")\n",
        "  "
      ],
      "metadata": {
        "id": "gOlmP3ii0HDh"
      },
      "execution_count": null,
      "outputs": []
    },
    {
      "cell_type": "code",
      "source": [
        "\n",
        "for j in range(50):\n",
        "  i=2000+j\n",
        "  if i%400==0 and i%100==0 or i%4==0:\n",
        "    print(i,\"leap year\")\n",
        "\n",
        "  elif i%10==0:\n",
        "    print(i,\"decade\")\n",
        "  \n",
        " \n",
        "  else:\n",
        "    print(\"normal year\") \n",
        "\n",
        "  \n",
        "\n"
      ],
      "metadata": {
        "id": "WIf2wxlt6jaE"
      },
      "execution_count": null,
      "outputs": []
    },
    {
      "cell_type": "code",
      "source": [
        "for month in range(12):\n",
        "  if month==2:\n",
        "    print(month,\"28 days\")\n",
        "  elif month in [1,3,5,7,9,11]:\n",
        "    print(month,\"31 days\")\n",
        "  elif month in [4,6,8,10,12]:\n",
        "    print(month,\"30 days\")\n",
        "  else:\n",
        "    print(\" \")\n",
        "\n"
      ],
      "metadata": {
        "id": "uBaTg0_qTRnU"
      },
      "execution_count": null,
      "outputs": []
    },
    {
      "cell_type": "code",
      "source": [
        "\n",
        "num=int(input())\n",
        " \n",
        "for i in range(1,11):\n",
        "  print(num,\"x\",i ,\"=\",num*i)\n",
        "\n"
      ],
      "metadata": {
        "id": "SxurAAwDcD6m"
      },
      "execution_count": null,
      "outputs": []
    },
    {
      "cell_type": "code",
      "source": [
        "num= 1234\n",
        "i=0\n",
        "while num!= 0:\n",
        "  num=num/10\n",
        "  i=i+1\n",
        "  print(i)\n",
        "\n",
        " \n",
        "print(i)\n",
        "\n"
      ],
      "metadata": {
        "id": "G1pgMiOffrab"
      },
      "execution_count": null,
      "outputs": []
    },
    {
      "cell_type": "code",
      "source": [
        "num = 3452\n",
        "count = 0\n",
        "\n",
        "while num != 0:\n",
        "    num= num/10\n",
        "    count += 1\n",
        "\n",
        "print(\"Number of digits: \" ,count)"
      ],
      "metadata": {
        "id": "Mp3IfkO0i3q3"
      },
      "execution_count": null,
      "outputs": []
    }
  ]
}