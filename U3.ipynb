{
  "nbformat": 4,
  "nbformat_minor": 0,
  "metadata": {
    "colab": {
      "name": "U3.ipynb",
      "private_outputs": true,
      "provenance": [],
      "authorship_tag": "ABX9TyO4BHKFbtqMxpbZwKKdY2Yz",
      "include_colab_link": true
    },
    "kernelspec": {
      "name": "python3",
      "display_name": "Python 3"
    },
    "language_info": {
      "name": "python"
    }
  },
  "cells": [
    {
      "cell_type": "markdown",
      "metadata": {
        "id": "view-in-github",
        "colab_type": "text"
      },
      "source": [
        "<a href=\"https://colab.research.google.com/github/sakikal/python-/blob/main/U3.ipynb\" target=\"_parent\"><img src=\"https://colab.research.google.com/assets/colab-badge.svg\" alt=\"Open In Colab\"/></a>"
      ]
    },
    {
      "cell_type": "code",
      "execution_count": null,
      "metadata": {
        "id": "i2QtCWi6emxE"
      },
      "outputs": [],
      "source": [
        "month = int(input())\n",
        "if month==1 or month==3 or month==5 or month==7 or month==8 or month==10:\n",
        "  print(month,\"has 31 days\")\n",
        "elif month==11:\n",
        "  print(month,\"has 31 days\")\n",
        "elif month==2:\n",
        "  print(month,\"has 28 days\")\n",
        "elif month==4or month==6 or month==9 or month==12:\n",
        "  print(month,\"has 30 days\")\n",
        "else :\n",
        "  print(month,\"hoga mara sara\")\n",
        "\n"
      ]
    }
  ]
}