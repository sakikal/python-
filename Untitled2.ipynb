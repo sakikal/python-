{
  "nbformat": 4,
  "nbformat_minor": 0,
  "metadata": {
    "colab": {
      "name": "Untitled2.ipynb",
      "private_outputs": true,
      "provenance": [],
      "authorship_tag": "ABX9TyNZuA0Z/N8vUxcIKpoJKdU4",
      "include_colab_link": true
    },
    "kernelspec": {
      "name": "python3",
      "display_name": "Python 3"
    },
    "language_info": {
      "name": "python"
    }
  },
  "cells": [
    {
      "cell_type": "markdown",
      "metadata": {
        "id": "view-in-github",
        "colab_type": "text"
      },
      "source": [
        "<a href=\"https://colab.research.google.com/github/sakikal/python-/blob/main/Untitled2.ipynb\" target=\"_parent\"><img src=\"https://colab.research.google.com/assets/colab-badge.svg\" alt=\"Open In Colab\"/></a>"
      ]
    },
    {
      "cell_type": "code",
      "execution_count": null,
      "metadata": {
        "id": "ZcxshEQF-_oO"
      },
      "outputs": [],
      "source": [
        "num = int(input())\n",
        "if num%2==0:\n",
        "  print(num,\"is even\")\n",
        "else:\n",
        "  print(num,\"is odd\")"
      ]
    },
    {
      "cell_type": "code",
      "source": [
        "mark = int(input())\n",
        "if mark>=80:\n",
        "  print(mark,\"A+\")\n",
        "elif mark>=75:\n",
        "  print(mark,\"A\")\n",
        "elif mark>=65:\n",
        "  print(mark,\"B+\")\n",
        "elif mark>=60:\n",
        "  print(mark,\"B\")\n",
        "elif mark>=55:\n",
        "  print(mark,\"B-\")\n",
        "elif mark>=50:\n",
        "  print(mark,\"C\")\n",
        "elif mark>=40:\n",
        "  print(mark,\"C-\")\n",
        "else :\n",
        "  print(mark,\"F\")"
      ],
      "metadata": {
        "id": "x7_TNg4ObFom"
      },
      "execution_count": null,
      "outputs": []
    },
    {
      "cell_type": "code",
      "source": [
        "num = int (input())\n",
        "if num>0:\n",
        "  print(num, \"posative\")\n",
        "elif num<0:\n",
        "  print(num, \"neg\")\n",
        "elif num==0:\n",
        "  print(num, \"Zero\")"
      ],
      "metadata": {
        "id": "DagS0P3zbPMo"
      },
      "execution_count": null,
      "outputs": []
    },
    {
      "cell_type": "code",
      "source": [
        "k = input()\n",
        "if k=='a'or k=='e'or k=='i'or k=='o'or k=='u':\n",
        "  print(k,\"vowel\")\n",
        "else :\n",
        "  print(k, \"cosonent\")"
      ],
      "metadata": {
        "id": "HKQ3cZ2mbWQT"
      },
      "execution_count": null,
      "outputs": []
    },
    {
      "cell_type": "code",
      "source": [
        "k = input()\n",
        "if k>='A' and k<='Z':\n",
        "  print(k, \"Uppercase\")\n",
        "elif k>='a' and k<='z':\n",
        "  print(k, \"lowercase\")"
      ],
      "metadata": {
        "id": "ROnFRCLebbry"
      },
      "execution_count": null,
      "outputs": []
    },
    {
      "cell_type": "code",
      "source": [
        "day = int(input())\n",
        "if day==1:\n",
        "  print(day,\"=saturday\")\n",
        "elif day==2:\n",
        "  print(day,\"=sunday\")\n",
        "elif day==3:\n",
        "  print(day,\"=monday\")\n",
        "elif day==4:\n",
        "  print(day,\"=tuesday\")\n",
        "elif day==5:\n",
        "  print(day,\"=wednesday\")\n",
        "elif day==6:\n",
        "  print(day,\"=thursday\")\n",
        "elif day==7:\n",
        "  print(day,\"=friday\")\n",
        "else:\n",
        "  print(\"input valide day\")"
      ],
      "metadata": {
        "id": "Ipu7bJqabh0a"
      },
      "execution_count": null,
      "outputs": []
    }
  ]
}