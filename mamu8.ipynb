{
  "nbformat": 4,
  "nbformat_minor": 0,
  "metadata": {
    "colab": {
      "name": "mamu8.ipynb",
      "private_outputs": true,
      "provenance": [],
      "authorship_tag": "ABX9TyP07dsQeg2oZmutUN5517RO",
      "include_colab_link": true
    },
    "kernelspec": {
      "name": "python3",
      "display_name": "Python 3"
    },
    "language_info": {
      "name": "python"
    }
  },
  "cells": [
    {
      "cell_type": "markdown",
      "metadata": {
        "id": "view-in-github",
        "colab_type": "text"
      },
      "source": [
        "<a href=\"https://colab.research.google.com/github/sakikal/python-/blob/main/mamu8.ipynb\" target=\"_parent\"><img src=\"https://colab.research.google.com/assets/colab-badge.svg\" alt=\"Open In Colab\"/></a>"
      ]
    },
    {
      "cell_type": "code",
      "execution_count": null,
      "metadata": {
        "id": "XivHPJwQ8ecq"
      },
      "outputs": [],
      "source": [
        "i=1\n",
        "for i in range(11):\n",
        "  print(i)\n",
        "  i=i+1\n",
        "print(\"end\")"
      ]
    },
    {
      "cell_type": "code",
      "source": [
        "print (\"Number Pattern\")\n",
        "row = 5 \n",
        "for i in range(1,row+1,1):\n",
        "\n",
        "  for j in range(1,i+1):\n",
        "       print(i,\"\")\n",
        "\n"
      ],
      "metadata": {
        "id": "X1GkOXFWDXqi"
      },
      "execution_count": null,
      "outputs": []
    },
    {
      "cell_type": "code",
      "source": [
        "a,b,c= \"big\",\"kola\",\"nunu\"\n",
        "print(c)\n",
        "print(b,a)\n",
        "print(a,b,c)\n"
      ],
      "metadata": {
        "id": "pjGk1ZenMMt6"
      },
      "execution_count": null,
      "outputs": []
    },
    {
      "cell_type": "code",
      "source": [
        "x=10\n",
        "y=20\n",
        "z=\"sakik\"\n",
        "print(id(x))\n",
        "print(id(y))\n",
        "print(id(z))"
      ],
      "metadata": {
        "id": "pmWbAYe5NQe_"
      },
      "execution_count": null,
      "outputs": []
    }
  ]
}