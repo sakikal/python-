{
  "nbformat": 4,
  "nbformat_minor": 0,
  "metadata": {
    "colab": {
      "name": "Untitled9.ipynb",
      "private_outputs": true,
      "provenance": [],
      "authorship_tag": "ABX9TyMplP4gIIatoFSpB2yrQl55",
      "include_colab_link": true
    },
    "kernelspec": {
      "name": "python3",
      "display_name": "Python 3"
    },
    "language_info": {
      "name": "python"
    }
  },
  "cells": [
    {
      "cell_type": "markdown",
      "metadata": {
        "id": "view-in-github",
        "colab_type": "text"
      },
      "source": [
        "<a href=\"https://colab.research.google.com/github/sakikal/python-/blob/main/Untitled9.ipynb\" target=\"_parent\"><img src=\"https://colab.research.google.com/assets/colab-badge.svg\" alt=\"Open In Colab\"/></a>"
      ]
    },
    {
      "cell_type": "code",
      "execution_count": null,
      "metadata": {
        "id": "sY_Udozm4kFj"
      },
      "outputs": [],
      "source": [
        "print(10<20)"
      ]
    },
    {
      "cell_type": "code",
      "source": [
        "i=int(input())\n",
        "j=int(input())\n",
        "if i<j:\n",
        "  print(\"small\")\n",
        "\n",
        "else:\n",
        "  print(\"big\")  "
      ],
      "metadata": {
        "id": "oMFh5UCwBATS"
      },
      "execution_count": null,
      "outputs": []
    }
  ]
}