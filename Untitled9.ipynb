{
  "nbformat": 4,
  "nbformat_minor": 0,
  "metadata": {
    "colab": {
      "name": "Untitled9.ipynb",
      "private_outputs": true,
      "provenance": [],
      "authorship_tag": "ABX9TyNIdp9j7Uli/T/b/ufqva4C",
      "include_colab_link": true
    },
    "kernelspec": {
      "name": "python3",
      "display_name": "Python 3"
    },
    "language_info": {
      "name": "python"
    }
  },
  "cells": [
    {
      "cell_type": "markdown",
      "metadata": {
        "id": "view-in-github",
        "colab_type": "text"
      },
      "source": [
        "<a href=\"https://colab.research.google.com/github/sakikal/python-/blob/main/Untitled9.ipynb\" target=\"_parent\"><img src=\"https://colab.research.google.com/assets/colab-badge.svg\" alt=\"Open In Colab\"/></a>"
      ]
    },
    {
      "cell_type": "code",
      "execution_count": null,
      "metadata": {
        "id": "sY_Udozm4kFj"
      },
      "outputs": [],
      "source": [
        "print(10<20)"
      ]
    },
    {
      "cell_type": "code",
      "source": [
        "i=int(input())\n",
        "j=int(input())\n",
        "if i<j:\n",
        "  print(\"small\")\n",
        "\n",
        "else:\n",
        "  print(\"big\")  "
      ],
      "metadata": {
        "id": "oMFh5UCwBATS"
      },
      "execution_count": null,
      "outputs": []
    },
    {
      "cell_type": "code",
      "source": [
        "a= \"sakik\"\n",
        "print(a[1:-2])"
      ],
      "metadata": {
        "id": "rmRlwy7hCB5R"
      },
      "execution_count": null,
      "outputs": []
    },
    {
      "cell_type": "code",
      "source": [
        "a=\"sakik al sajid\"\n",
        "print(a.capitalize())"
      ],
      "metadata": {
        "id": "0ipcD92b-ErN"
      },
      "execution_count": null,
      "outputs": []
    },
    {
      "cell_type": "code",
      "source": [
        ""
      ],
      "metadata": {
        "id": "b9VjX38O-Tzl"
      },
      "execution_count": null,
      "outputs": []
    }
  ]
}