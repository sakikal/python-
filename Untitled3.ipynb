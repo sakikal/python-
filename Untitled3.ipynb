{
  "nbformat": 4,
  "nbformat_minor": 0,
  "metadata": {
    "colab": {
      "name": "Untitled3.ipynb",
      "private_outputs": true,
      "provenance": [],
      "authorship_tag": "ABX9TyMes6U8B7uDzZ6bSUGr+j4b",
      "include_colab_link": true
    },
    "kernelspec": {
      "name": "python3",
      "display_name": "Python 3"
    },
    "language_info": {
      "name": "python"
    }
  },
  "cells": [
    {
      "cell_type": "markdown",
      "metadata": {
        "id": "view-in-github",
        "colab_type": "text"
      },
      "source": [
        "<a href=\"https://colab.research.google.com/github/sakikal/python-/blob/main/Untitled3.ipynb\" target=\"_parent\"><img src=\"https://colab.research.google.com/assets/colab-badge.svg\" alt=\"Open In Colab\"/></a>"
      ]
    },
    {
      "cell_type": "code",
      "execution_count": null,
      "metadata": {
        "id": "xcMwZC-eqIpm"
      },
      "outputs": [],
      "source": [
        "{\n",
        "  \"short_name\": \"React App\",\n",
        "  \"name\": \"Create React App Sample\",\n",
        "  \"icons\": [\n",
        "    {\n",
        "      \"src\": \"favicon.ico\",\n",
        "      \"sizes\": \"64x64 32x32 24x24 16x16\",\n",
        "      \"type\": \"image/x-icon\"\n",
        "    },\n",
        "    {\n",
        "      \"src\": \"logo192.png\",\n",
        "      \"type\": \"image/png\",\n",
        "      \"sizes\": \"192x192\"\n",
        "    },\n",
        "    {\n",
        "      \"src\": \"logo512.png\",\n",
        "      \"type\": \"image/png\",\n",
        "      \"sizes\": \"512x512\"\n",
        "    }\n",
        "  ],\n",
        "  \"start_url\": \".\",\n",
        "  \"display\": \"standalone\",\n",
        "  \"theme_color\": \"#000000\",\n",
        "  \"background_color\": \"#ffffff\"\n",
        "}"
      ]
    }
  ]
}