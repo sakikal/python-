{
  "nbformat": 4,
  "nbformat_minor": 0,
  "metadata": {
    "colab": {
      "name": "kkk3.ipynb",
      "private_outputs": true,
      "provenance": [],
      "authorship_tag": "ABX9TyMk79uwiVq01OB6huTjpZCM",
      "include_colab_link": true
    },
    "kernelspec": {
      "name": "python3",
      "display_name": "Python 3"
    },
    "language_info": {
      "name": "python"
    }
  },
  "cells": [
    {
      "cell_type": "markdown",
      "metadata": {
        "id": "view-in-github",
        "colab_type": "text"
      },
      "source": [
        "<a href=\"https://colab.research.google.com/github/sakikal/python-/blob/main/kkk3.ipynb\" target=\"_parent\"><img src=\"https://colab.research.google.com/assets/colab-badge.svg\" alt=\"Open In Colab\"/></a>"
      ]
    },
    {
      "cell_type": "code",
      "execution_count": null,
      "metadata": {
        "id": "i2QtCWi6emxE"
      },
      "outputs": [],
      "source": [
        "month = int(input())\n",
        "if month==1 or month==3 or month==5 or month==7 or month==8 or month==10:\n",
        "  print(month,\"has 31 days\")\n",
        "elif month==11:\n",
        "  print(month,\"has 31 days\")\n",
        "elif month==2:\n",
        "  print(month,\"has 28 days\")\n",
        "elif month==4or month==6 or month==9 or month==12:\n",
        "  print(month,\"has 30 days\")\n",
        "else :\n",
        "  print(month,\"hoga mara sara\")\n",
        "\n"
      ]
    },
    {
      "cell_type": "code",
      "source": [
        "side1 = int(input())\n",
        "side2 = int(input())\n",
        "side3 = int(input())\n",
        "\n",
        "if side1==side2 and side2==side3:\n",
        "  print(\"triangle is equilateral\")\n",
        "elif side1==side2 or side1==side3 or side2==side3:\n",
        "  print(\"triangle is isosceles\")\n",
        "else:\n",
        "  print(\"scalene triangle\")\n",
        "\n",
        "\n"
      ],
      "metadata": {
        "id": "HMlY_GvLj0oh"
      },
      "execution_count": null,
      "outputs": []
    }
  ]
}